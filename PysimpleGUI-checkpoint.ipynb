{
 "cells": [
  {
   "cell_type": "markdown",
   "id": "b1a10daa",
   "metadata": {},
   "source": [
    "# IMPORTED LIBRARIES"
   ]
  },
  {
   "cell_type": "code",
   "execution_count": null,
   "id": "16a934af",
   "metadata": {},
   "outputs": [],
   "source": [
    "import PySimpleGUI as sg\n",
    "import sys\n",
    "import fitz\n",
    "from sys import exit\n",
    "from collections import defaultdict"
   ]
  },
  {
   "cell_type": "code",
   "execution_count": null,
   "id": "104433f3",
   "metadata": {},
   "outputs": [],
   "source": [
    "import aspose.words as aw"
   ]
  },
  {
   "cell_type": "code",
   "execution_count": null,
   "id": "34502a4d",
   "metadata": {},
   "outputs": [],
   "source": [
    "import PyPDF2 as pdf\n",
    "import pdf2image\n",
    "from pdf2image import convert_from_path\n",
    "import numpy as np\n",
    "import pandas as pd\n",
    "import os\n",
    "import io\n",
    "import matplotlib.pyplot as plt\n",
    "import pdfplumber"
   ]
  },
  {
   "cell_type": "code",
   "execution_count": null,
   "id": "461f43ab",
   "metadata": {},
   "outputs": [],
   "source": [
    "from sklearn.cluster import AgglomerativeClustering\n",
    "from tabula import read_pdf\n",
    "from tabulate import tabulate\n",
    "import argparse\n",
    "import imutils\n",
    "from scipy.ndimage import interpolation as inter"
   ]
  },
  {
   "cell_type": "code",
   "execution_count": null,
   "id": "07634c55",
   "metadata": {},
   "outputs": [],
   "source": [
    "from io import StringIO\n",
    "from pdfminer.pdfinterp import PDFResourceManager, PDFPageInterpreter\n",
    "from pdfminer.converter import TextConverter\n",
    "from pdfminer.layout import LAParams\n",
    "from pdfminer.pdfpage import PDFPage"
   ]
  },
  {
   "cell_type": "code",
   "execution_count": null,
   "id": "9b4915f6",
   "metadata": {},
   "outputs": [],
   "source": [
    "import cv2\n",
    "from PIL import Image\n",
    "import pytesseract\n",
    "pytesseract.pytesseract.tesseract_cmd = r'C:\\Users\\Guest_jouw\\.conda\\envs\\tesseract\\Library\\bin\\tesseract.exe'\n",
    "from pytesseract import Output"
   ]
  },
  {
   "cell_type": "markdown",
   "id": "1d976d44",
   "metadata": {},
   "source": [
    "# FUNCTION FOR DISPLAYING IMAGES IN JUPYTER NOTEBOOK"
   ]
  },
  {
   "cell_type": "code",
   "execution_count": null,
   "id": "d3379136",
   "metadata": {},
   "outputs": [],
   "source": [
    " #Matplotlib was used to display full size of the image\n",
    "    \n",
    "def display(im_path):\n",
    "\n",
    "    dpi = 80\n",
    "    im_data = plt.imread(im_path)\n",
    "\n",
    "    height, width  = im_data.shape[:2]\n",
    "    \n",
    "    # What size does the figure need to be in inches to fit the image?\n",
    "    figsize = width / float(dpi), height / float(dpi)\n",
    "\n",
    "    # Create a figure of the right size with one axes that takes up the full figure\n",
    "    fig = plt.figure(figsize=figsize)\n",
    "    ax = fig.add_axes([0, 0, 1, 1])\n",
    "\n",
    "    # Hide spines, ticks, etc.\n",
    "    ax.axis('off')\n",
    "\n",
    "    # Display the image.\n",
    "    ax.imshow(im_data, cmap='gray')\n",
    "\n",
    "    plt.show()\n",
    "        \n",
    "  "
   ]
  },
  {
   "cell_type": "markdown",
   "id": "3153ed4d",
   "metadata": {},
   "source": [
    "# IMAGE PRE-PROCESSING FUNCTIONS"
   ]
  },
  {
   "cell_type": "markdown",
   "id": "5e80e5c0",
   "metadata": {},
   "source": [
    "# CORRECTED SKEW ANGLE"
   ]
  },
  {
   "cell_type": "code",
   "execution_count": null,
   "id": "7354d0ab",
   "metadata": {},
   "outputs": [],
   "source": [
    "def correct_skew(file, delta=1, limit=10):\n",
    "    \n",
    "    \n",
    "    def determine_score(arr, angle):\n",
    "        \n",
    "        data = inter.rotate(arr, angle, reshape=False, order=0)\n",
    "        histogram = np.sum(data, axis=1, dtype=float)\n",
    "        score = np.sum((histogram[1:] - histogram[:-1]) ** 2, dtype=float)\n",
    "        \n",
    "        return histogram, score\n",
    "\n",
    "    gray = cv2.cvtColor(file, cv2.COLOR_BGR2GRAY)\n",
    "    thresh = cv2.threshold(gray, 0, 255, cv2.THRESH_BINARY_INV + cv2.THRESH_OTSU)[1] \n",
    "\n",
    "    scores = []\n",
    "    angles = np.arange(-limit, limit + delta, delta)\n",
    "    for angle in angles:\n",
    "        histogram, score = determine_score(thresh, angle)\n",
    "        scores.append(score)\n",
    "\n",
    "    best_angle = angles[scores.index(max(scores))]\n",
    "\n",
    "    (h, w) = file.shape[:2]\n",
    "    center = (w // 2, h // 2)\n",
    "    M = cv2.getRotationMatrix2D(center, best_angle, 1.0)\n",
    "    corrected = cv2.warpAffine(file, M, (w, h), flags=cv2.INTER_CUBIC, \\\n",
    "            borderMode=cv2.BORDER_REPLICATE)\n",
    "\n",
    "    return best_angle, corrected  "
   ]
  },
  {
   "cell_type": "markdown",
   "id": "88ade8cf",
   "metadata": {},
   "source": [
    "# WATER_MARK REMOVAL"
   ]
  },
  {
   "cell_type": "code",
   "execution_count": null,
   "id": "75089355",
   "metadata": {},
   "outputs": [],
   "source": [
    "def water_mark_removal(file):\n",
    "    \n",
    "    # Load the image\n",
    "    img = cv2.imread(file)\n",
    "\n",
    "    # Convert the image to grayscale\n",
    "    gr = cv2.cvtColor(img, cv2.COLOR_BGR2GRAY)\n",
    "\n",
    "    # Make a copy of the grayscale image\n",
    "    bg = gr.copy()\n",
    "\n",
    "    # Apply morphological transformations\n",
    "    for i in range(5):\n",
    "        \n",
    "        kernel2 = cv2.getStructuringElement(cv2.MORPH_ELLIPSE,\n",
    "                                            (2 * i + 1, 2 * i + 1))\n",
    "        bg = cv2.morphologyEx(bg, cv2.MORPH_CLOSE, kernel2)\n",
    "        bg = cv2.morphologyEx(bg, cv2.MORPH_OPEN, kernel2)\n",
    "\n",
    "    # Subtract the grayscale image from its processed copy\n",
    "    dif = cv2.subtract(bg, gr)\n",
    "\n",
    "    # Apply thresholding\n",
    "    bw = cv2.threshold(dif, 0, 255, cv2.THRESH_BINARY_INV | cv2.THRESH_OTSU)[1]\n",
    "    dark = cv2.threshold(bg, 0, 255, cv2.THRESH_BINARY_INV | cv2.THRESH_OTSU)[1]\n",
    "\n",
    "    # Extract pixels in the dark region\n",
    "    darkpix = gr[np.where(dark > 0)]\n",
    "\n",
    "    # Threshold the dark region to get the darker pixels inside it\n",
    "    darkpix = cv2.threshold(darkpix, 0, 255, cv2.THRESH_BINARY | cv2.THRESH_OTSU)[1]\n",
    "\n",
    "    # Paste the extracted darker pixels in the watermark region\n",
    "    bw[np.where(dark > 0)] = darkpix.T\n",
    "    \n",
    "    cv2.imwrite('without_watermark_before.jpg',bw)"
   ]
  },
  {
   "cell_type": "markdown",
   "id": "dae6fba0",
   "metadata": {},
   "source": [
    "# GRAY_SCALING"
   ]
  },
  {
   "cell_type": "code",
   "execution_count": null,
   "id": "87d92b2a",
   "metadata": {},
   "outputs": [],
   "source": [
    "def grayscale(file):\n",
    "    img = cv2.imread(file)\n",
    "    gray = cv2.cvtColor(img, cv2.COLOR_BGR2GRAY)\n",
    "    cv2.imwrite(\"grey_image.jpg\",gray)"
   ]
  },
  {
   "cell_type": "code",
   "execution_count": null,
   "id": "57443b87",
   "metadata": {},
   "outputs": [],
   "source": [
    "display(\"grey_image.jpg\")"
   ]
  },
  {
   "cell_type": "markdown",
   "id": "72a7e275",
   "metadata": {},
   "source": [
    "# SHADOW_REMOVAL"
   ]
  },
  {
   "cell_type": "code",
   "execution_count": null,
   "id": "9ddf9599",
   "metadata": {},
   "outputs": [],
   "source": [
    "def shadow_removal(file):\n",
    "    \n",
    "    img = cv2.imread(file,-1)\n",
    "\n",
    "    rgb_planes = cv2.split(img)\n",
    "\n",
    "    result_planes = []\n",
    "    result_norm_planes = []\n",
    "    for plane in rgb_planes:\n",
    "        \n",
    "        dilated_img = cv2.dilate(plane, np.ones((7,7), np.uint8))\n",
    "        bg_img = cv2.medianBlur(dilated_img, 21)\n",
    "        diff_img = 255 - cv2.absdiff(plane, bg_img)\n",
    "        norm_img = cv2.normalize(diff_img,None, alpha=0, beta=255, norm_type=cv2.NORM_MINMAX, dtype=cv2.CV_8UC1)\n",
    "        result_planes.append(diff_img)\n",
    "        result_norm_planes.append(norm_img)\n",
    "\n",
    "    shadows = cv2.merge(result_planes)\n",
    "    shadows_norm = cv2.merge(result_norm_planes)\n",
    "\n",
    "    cv2.imwrite('shadows_out.png', shadows_norm)"
   ]
  },
  {
   "cell_type": "markdown",
   "id": "72847829",
   "metadata": {},
   "source": [
    "# THRESHOLDING"
   ]
  },
  {
   "cell_type": "code",
   "execution_count": null,
   "id": "9fc42f19",
   "metadata": {},
   "outputs": [],
   "source": [
    "def thresholding(file):\n",
    "    \n",
    "    img = cv2.imread(file,cv2.IMREAD_GRAYSCALE)\n",
    "    thresh = cv2.threshold(img, 0, 255, cv2.THRESH_BINARY_INV + cv2.THRESH_OTSU)[1]\n",
    "    thresh = cv2.bitwise_not(thresh)\n",
    "    cv2.imwrite(\"otsuthreshold.jpg\",thresh)"
   ]
  },
  {
   "cell_type": "markdown",
   "id": "ed882ae2",
   "metadata": {},
   "source": [
    "# INVERTED_IMAGE"
   ]
  },
  {
   "cell_type": "code",
   "execution_count": null,
   "id": "f528db7a",
   "metadata": {},
   "outputs": [],
   "source": [
    "def invert_image(file):\n",
    "    \n",
    "    img = cv2.imread(file)\n",
    "    inverted_image = cv2.bitwise_not(img)\n",
    "    cv2.imwrite(\"inverted.jpg\", inverted_image)\n",
    "    "
   ]
  },
  {
   "cell_type": "code",
   "execution_count": null,
   "id": "653aea9b",
   "metadata": {},
   "outputs": [],
   "source": [
    "display(\"inverted.jpg\")"
   ]
  },
  {
   "cell_type": "markdown",
   "id": "b0995d11",
   "metadata": {},
   "source": [
    "# DILATION"
   ]
  },
  {
   "cell_type": "code",
   "execution_count": null,
   "id": "97e56409",
   "metadata": {},
   "outputs": [],
   "source": [
    "def dilation(file):\n",
    "    \n",
    "    img = cv2.imread(file)\n",
    "    kernel = cv2.getStructuringElement(cv2.MORPH_RECT, (1,1))\n",
    "    dilate = cv2.dilate(img, kernel, iterations=2)\n",
    "    inverted_image = cv2.bitwise_not(dilate)\n",
    "\n",
    "    cv2.imwrite(\"dilated.jpg\",inverted_image)"
   ]
  },
  {
   "cell_type": "code",
   "execution_count": null,
   "id": "77010d73",
   "metadata": {},
   "outputs": [],
   "source": [
    "display(\"dilated.jpg\")"
   ]
  },
  {
   "cell_type": "markdown",
   "id": "2b690e39",
   "metadata": {},
   "source": [
    "# NOISE_REMOVAL"
   ]
  },
  {
   "cell_type": "code",
   "execution_count": null,
   "id": "84debfd0",
   "metadata": {},
   "outputs": [],
   "source": [
    "def noise_removal(file):\n",
    "    \n",
    "    img = cv2.imread(file)\n",
    "    \n",
    "    kernel = np.ones((1, 1), np.uint8)\n",
    "    img = cv2.dilate(img, kernel, iterations=1)\n",
    "    kernel = np.ones((1, 1), np.uint8)\n",
    "    img = cv2.erode(img, kernel, iterations=1)\n",
    "    img = cv2.morphologyEx(img, cv2.MORPH_CLOSE, kernel)\n",
    "    img = cv2.medianBlur(img, 3)\n",
    "    return (img)\n",
    "    \n",
    "    noise = img\n",
    "    cv2.imwrite('noise_removal1.jpg',noise)"
   ]
  },
  {
   "cell_type": "markdown",
   "id": "0f7c5240",
   "metadata": {},
   "source": [
    "# NOISE REMOVAL_CONNECTIVITY"
   ]
  },
  {
   "cell_type": "code",
   "execution_count": null,
   "id": "e3e7e5ca",
   "metadata": {},
   "outputs": [],
   "source": [
    "def noise_removal_connectivity(file):\n",
    "    inverted_image = cv2.imread(file)\n",
    "    connectivity = 4\n",
    "    nb_components, output, stats, centroids = cv2.connectedComponentsWithStats(inverted_image, connectivity, cv2.CV_32S)\n",
    "    sizes = stats[1:, -1]; nb_components = nb_components - 1\n",
    "    min_size = 50 #threshhold value for small noisy components\n",
    "    inverted_image = np.zeros((output.shape), np.uint8)\n",
    "\n",
    "    for i in range(0, nb_components):\n",
    "        if sizes[i] >= min_size:\n",
    "            inverted_image[output == i + 1] = 255\n",
    "\n",
    "    noise_connect = inverted_image\n",
    "    cv2.imwrite(\"noise_removal_connectivity1.jpg\",noise_connect)\n",
    "    "
   ]
  },
  {
   "cell_type": "markdown",
   "id": "2571f3f1",
   "metadata": {},
   "source": [
    "# NOISE REMOVAL3"
   ]
  },
  {
   "cell_type": "code",
   "execution_count": null,
   "id": "6548768e",
   "metadata": {},
   "outputs": [],
   "source": [
    "def noise_median_blur(file):\n",
    "    \n",
    "    img = cv2.imread(file)\n",
    "    inverted_image = np.array(img)\n",
    "    median = cv2.medianBlur(inverted_image, 3)\n",
    "    cv2.imwrite(\"medianBlur.jpg\",median)"
   ]
  },
  {
   "cell_type": "markdown",
   "id": "993038b0",
   "metadata": {},
   "source": [
    "# OCR_FOR_IMAGES"
   ]
  },
  {
   "cell_type": "code",
   "execution_count": null,
   "id": "d626d028",
   "metadata": {},
   "outputs": [],
   "source": [
    "#def image_to_text(file):\n",
    "    img = cv2.imread(file)\n",
    "    target = pytesseract.image_to_string(img)\n",
    "    return target\n",
    "    \n",
    "    img = cv2.imread(\"medianBlur.jpg\")\n",
    "    print(image_to_text(img))"
   ]
  },
  {
   "cell_type": "markdown",
   "id": "31c65872",
   "metadata": {},
   "source": [
    "# CLEAN FUNCTION"
   ]
  },
  {
   "cell_type": "code",
   "execution_count": null,
   "id": "f535f335",
   "metadata": {},
   "outputs": [],
   "source": [
    "def main_clean_function(file):\n",
    "  \n",
    "    image = cv2.imread(file)\n",
    "    cv2.imwrite('original_file.jpg',image)\n",
    "    \n",
    "    #1 Skew Correction:\n",
    "    image = cv2.imread('original_file.jpg')\n",
    "    angle, corrected = correct_skew(image)\n",
    "    cv2.imwrite('corrected.jpg',corrected) \n",
    "       \n",
    "    #2 Water mark removal:\n",
    "    #water_mark_removal('original_file.jpg')\n",
    "    \n",
    "    #3 Gray_Scaling:\n",
    "    grayscale('corrected.jpg')\n",
    "    \n",
    "    #4 Shadow_removal:\n",
    "    shadow_removal(\"grey_image.jpg\")\n",
    "    \n",
    "    #5 Thresholding:\n",
    "    thresholding('shadows_out.png')\n",
    "                 \n",
    "    #6 Inverted Image:\n",
    "    invert_image(\"otsuthreshold.jpg\")  \n",
    "                 \n",
    "    #7 Dilation:\n",
    "    dilation(\"inverted.jpg\")\n",
    "                 \n",
    "    #8 Noise Removal:\n",
    "    #noise_median_blur(\"dilated.jpg\")"
   ]
  },
  {
   "cell_type": "markdown",
   "id": "4fd663cd",
   "metadata": {},
   "source": [
    "# MAIN_FUNCTION_IMAGE_PROCESSING_OCR"
   ]
  },
  {
   "cell_type": "code",
   "execution_count": null,
   "id": "5faee6e0",
   "metadata": {},
   "outputs": [],
   "source": [
    "def main_function(file):\n",
    "  \n",
    "    image = cv2.imread(file)\n",
    "    cv2.imwrite('original_file.jpg',image)\n",
    "    \n",
    "    #1 Skew Correction:\n",
    "    image = cv2.imread('original_file.jpg')\n",
    "    angle, corrected = correct_skew(image)\n",
    "    cv2.imwrite('corrected.jpg',corrected) \n",
    "         \n",
    "    #2 Water mark removal:\n",
    "    #water_mark_removal('original_file.jpg')\n",
    "    \n",
    "    #3 Gray_Scaling:\n",
    "    grayscale('original_file.jpg')\n",
    "    \n",
    "    #4 Shadow_removal:\n",
    "    shadow_removal(\"grey_image.jpg\")\n",
    "    \n",
    "    #5 Thresholding:\n",
    "    thresholding('shadows_out.png')\n",
    "                 \n",
    "    #6 Inverted Image:\n",
    "    invert_image(\"otsuthreshold.jpg\")  \n",
    "                 \n",
    "    #7 Dilation:\n",
    "    dilation(\"inverted.jpg\")\n",
    "                 \n",
    "    #8 Noise Removal:\n",
    "    #noise_median_blur(\"dilated.jpg\")\n",
    "    \n",
    "    \n",
    "    #11 OCR_image\n",
    "    def image_to_text(file):\n",
    "        target = pytesseract.image_to_string(img)\n",
    "        return target\n",
    "    \n",
    "    img = cv2.imread(\"dilated.jpg\")\n",
    "    print(image_to_text(img))"
   ]
  },
  {
   "cell_type": "markdown",
   "id": "4115ee45",
   "metadata": {},
   "source": [
    "# MAIN_FUNCTION_PDF_PROCESSING"
   ]
  },
  {
   "cell_type": "code",
   "execution_count": null,
   "id": "28aa9161",
   "metadata": {},
   "outputs": [],
   "source": [
    "#1. Ocr_pdfs\n",
    "def main_function2(file):\n",
    "    doc = aw.Document(file)\n",
    "    doc.save(file, aw.SaveFormat.PDF)\n",
    "    global text\n",
    "    pdfFile = open(file,'rb')\n",
    "    pdfReader = pdf.PdfFileReader(pdfFile)\n",
    "    pageObj = pdfReader.getPage(0)\n",
    "    text = pageObj.extractText()\n",
    "    print(text) "
   ]
  },
  {
   "cell_type": "markdown",
   "id": "b5f5e9d6",
   "metadata": {},
   "source": [
    "# PDF VIEWING"
   ]
  },
  {
   "cell_type": "code",
   "execution_count": null,
   "id": "ee472215",
   "metadata": {},
   "outputs": [],
   "source": [
    " def get_page(pno):\n",
    "\n",
    "        dlist = dlist_tab[pno]  # get display list\n",
    "        if not dlist:\n",
    "            # create if not yet there\n",
    "            dlist_tab[pno] = doc[pno].getDisplayList()\n",
    "            dlist = dlist_tab[pno]\n",
    "            \n",
    "        pix = dlist.getPixmap(alpha = False)\n",
    "        return pix.getPNGData() "
   ]
  },
  {
   "cell_type": "code",
   "execution_count": null,
   "id": "dc1abf7b",
   "metadata": {},
   "outputs": [],
   "source": [
    "def image_viewing(file):\n",
    "        \n",
    "    pdf = fitz.open(file)\n",
    "    for pageNumber, page in enumerate(pdf.pages(),start = 1):\n",
    "            \n",
    "        for imgNumber, img in enumerate(page.getImageList(),start = 1):\n",
    "                \n",
    "            xref = img[0]\n",
    "            pix = fitz.Pixmap(pdf,xref)\n",
    "            \n",
    "            if pix.n>4:\n",
    "            \n",
    "                pix = fitz.Pixmap(fitz.csRGB,pix)\n",
    "                \n",
    "            pix.writePNG(f'image_Page{imgNumber}.png')\n",
    "            #return pix.getPNGData()"
   ]
  },
  {
   "cell_type": "markdown",
   "id": "e95c767b",
   "metadata": {},
   "source": [
    "# PDF VIEWING2"
   ]
  },
  {
   "cell_type": "code",
   "execution_count": null,
   "id": "1e85e844",
   "metadata": {},
   "outputs": [],
   "source": [
    "#Store Pdf with convert_from_path function\n",
    "def pdf_convert(file):\n",
    "    \n",
    "     images = convert_from_path(file,500,poppler_path=r\"C:\\Users\\Guest_jouw\\poppler\\poppler-22.04.0\\Library\\bin\")\n",
    " \n",
    "     for i in range(len(images)):\n",
    "        window[\"-IMAGE-\"].update(images[i])\n",
    "        "
   ]
  },
  {
   "cell_type": "markdown",
   "id": "a8b5ca1d",
   "metadata": {},
   "source": [
    "# SCAN"
   ]
  },
  {
   "cell_type": "code",
   "execution_count": null,
   "id": "93de3de4",
   "metadata": {},
   "outputs": [],
   "source": [
    "def scan(cmd, timeout=None, window=None):\n",
    "    \n",
    "    if values['-IN-'] == \"Choose File\" or values['-IN-'] == \"\":\n",
    "  \n",
    "        print('No file chosen')  \n",
    "                \n",
    "    else:\n",
    "                \n",
    "        file = values['-IN-']\n",
    "        file_path = os.path.split(file)\n",
    "        file_extension = os.path.splitext(file_path[1])\n",
    "        image_file = ['.png','.jpg','.bmp','.gif','.ico','.jpeg','.ps','.psd','.svg','.tif','.tiff']\n",
    "        text_file = ['.doc','.docx','.odt','.pdf','.rtf','.tex','.txt','.wpd']\n",
    "        \n",
    "        for i in image_file, text_file:\n",
    "            \n",
    "            if file_extension[1] in image_file:\n",
    "                \n",
    "                print(main_function(file))\n",
    "                \n",
    "                \n",
    "            if file_extension[1] in text_file:\n",
    "                \n",
    "                print(main_function2)\n",
    "                    \n",
    "            else: \n",
    "                print('This is not a recognized file format')"
   ]
  },
  {
   "cell_type": "markdown",
   "id": "5a9c183e",
   "metadata": {},
   "source": [
    "# INTERFACE"
   ]
  },
  {
   "cell_type": "code",
   "execution_count": null,
   "id": "ff1059fe",
   "metadata": {
    "scrolled": true
   },
   "outputs": [],
   "source": [
    "sg.LOOK_AND_FEEL_TABLE['EYtheme'] = {'BACKGROUND': '#333333',\n",
    "                                        'TEXT': '#ffffff',\n",
    "                                        'INPUT': '#ffffff',\n",
    "                                        'TEXT_INPUT': '#333333',\n",
    "                                        'SCROLL': '#cccccc',\n",
    "                                        'BUTTON': ('#333333', '#ffe600'),\n",
    "                                        'PROGRESS': ('#D1826B', '#CC8019'),\n",
    "                                        'BORDER': 1, 'SLIDER_DEPTH': 0, \n",
    "'PROGRESS_DEPTH': 0, }\n",
    "sg.theme('EYtheme')\n",
    "menu_layout = [\n",
    "    ['File',['Open','Save','---','Exit']],\n",
    "   \n",
    "]\n",
    "\n",
    "file_types = [(\"JPEG (*.jpg)\", \"*.jpg\"),(\"PNG (*.png)\", \"*.png\"),(\"PDF (*.pdf)\", \"*.pdf\"),\n",
    "              (\"All files (*.*)\", \"*.*\")]\n",
    "\n",
    "#COLUMNS:\n",
    "\n",
    "image_elem = sg.Image(key = '-IMAGE-')\n",
    "goto =  sg.InputText(key = '-TEXT-',size = (5, 1))\n",
    "Buttons = sg.Column([\n",
    "    [\n",
    "        sg.Button('Prev'),\n",
    "        sg.Button('Next'),\n",
    "        sg.Text('Page:'),\n",
    "        goto,\n",
    "    ],\n",
    "    [\n",
    "        sg.Text(\"Zoom:\"),\n",
    "        sg.Button('Top-L'),\n",
    "        sg.Button('Top-R'),\n",
    "        sg.Button('Bot-L'),\n",
    "        sg.Button('Bot-R'),\n",
    "    ],\n",
    "    [image_elem],\n",
    "])\n",
    "my_keys = (\"Next\", \"Next:34\", \"Prev\", \"Prior:33\", \"Top-L\", \"Top-R\",\n",
    "           \"Bot-L\", \"Bot-R\", \"MouseWheel:Down\", \"MouseWheel:Up\")\n",
    "zoom_buttons = (\"Top-L\", \"Top-R\", \"Bot-L\", \"Bot-R\")\n",
    "\n",
    "\n",
    "clean_img_col = sg.Column([[sg.Image(key = '-CLEAN_IMAGE-')]])\n",
    "control_col = sg.Column([\n",
    "      \n",
    "        [sg.Text('File Preview')],\n",
    "        [sg.Input('Choose File',size=(30, 1),enable_events = True, key ='-IN-',justification = 'left')\n",
    "         ,sg.FileBrowse(file_types=file_types),sg.Button('Upload New File', key = '-BUTTON2-')],\n",
    "\n",
    "    \n",
    "        [sg.Text('Upload Your File',justification = 'left')],\n",
    "        [sg.Button(\"Load File\",key = '-LOAD-'),sg.Button(\"Load Clean File\",key = '-CLEAN-'),\n",
    "         sg.Button('Clear Output',key = '-BUTTON3-'),sg.Button('Scan', key = '-BUTTON1-')],\n",
    "        [sg.Output(size=(100,75),key = '_output_')]\n",
    "    \n",
    "])\n",
    "layout = [[Buttons,clean_img_col,control_col]]\n",
    "\n",
    "window = sg.Window('Document Scanner',layout,icon='EY-logo.ico',margins = (50,50),resizable = 'True',\n",
    "                   return_keyboard_events=True, use_default_focus=False, finalize = True)\n",
    "\n",
    "while True:\n",
    "    \n",
    "    event, values = window.read()\n",
    "    cur_page = 0\n",
    "    force_page = False\n",
    "    if event == sg.WIN_CLOSED:   \n",
    "        break\n",
    "    \n",
    "    if event == '-BUTTON2-':\n",
    "        window['-IN-'].update(\"Choose File\")\n",
    "        \n",
    "    if event == '-BUTTON1-':\n",
    "        \n",
    "        \n",
    "        scan(cmd=values['-IN-'], window=window)\n",
    "        \n",
    "        \n",
    "    if event == '-BUTTON3-':\n",
    "        \n",
    "        window.FindElement('_output_').Update('')\n",
    "    \n",
    "    \n",
    "    if event == '-CLEAN-':\n",
    "        \n",
    "        filename = values[\"-IN-\"]\n",
    "        main_clean_function(filename)\n",
    "        image = Image.open(\"dilated.jpg\")\n",
    "        image.thumbnail((1000, 800))\n",
    "        bio = io.BytesIO()\n",
    "        # Actually store the image in memory in binary \n",
    "        image.save(bio, format=\"PNG\")\n",
    "        # Use that image data in order to \n",
    "        window[\"-CLEAN_IMAGE-\"].update(data=bio.getvalue())\n",
    "        \n",
    "          \n",
    "    \n",
    "    if event == '-LOAD-':\n",
    "     \n",
    "        doc = fitz.open(values['-IN-'])\n",
    "        page_count = len(doc)\n",
    "\n",
    "        # storage for page display lists\n",
    "        dlist_tab = [None] * page_count\n",
    "\n",
    "        data = get_page(cur_page)  # show page 1 for start\n",
    "        image_elem = sg.Image(data=data)\n",
    "        goto = sg.InputText(str(cur_page + 1), size=(5, 1))\n",
    "        window[\"-IMAGE-\"].update(data=data)\n",
    "        window[\"-TEXT-\"].update(str(cur_page + 1))\n",
    "        \n",
    "        \n",
    "    if event[0] == chr(13):  # surprise: this is 'Enter'!\n",
    "        try:\n",
    "            cur_page = int(values[0]) - 1  # check if valid\n",
    "            while cur_page < 0:\n",
    "                cur_page += page_count\n",
    "        except:\n",
    "            cur_page = 0  # this guy's trying to fool me\n",
    "            goto = sg.InputText(str(cur_page + 1))\n",
    "            \n",
    "    elif event in (\"Next\", \"Next:34\", \"MouseWheel:Down\"):\n",
    "        cur_page += 1\n",
    "    elif event in (\"Prev\", \"Prior:33\", \"MouseWheel:Up\"):\n",
    "        cur_page -= 1\n",
    "       \n",
    "    # sanitize page number\n",
    "\n",
    "    if cur_page >= page_count:  # wrap around\n",
    "        cur_page = 0\n",
    "    while cur_page < 0:  # we show conventional page numbers\n",
    "        cur_page += page_count\n",
    "\n",
    "    # prevent creating same data again\n",
    "    if cur_page != old_page:\n",
    "        \n",
    "        force_page = True\n",
    "\n",
    "    if force_page:\n",
    "        data = get_page(cur_page)\n",
    "        image_elem = sg.Image(data=data)\n",
    "        window['-IMAGE-'].update(data=data)\n",
    "        old_page = cur_page\n",
    "        \n",
    "        \n",
    "    if event in my_keys:\n",
    "        \n",
    "        goto = sg.InputText(str(cur_page + 1))\n",
    "        window[\"-TEXT-\"].update(str(cur_page + 1))\n",
    "        # goto.TKStringVar.set(str(cur_page + 1))\n",
    "  \n",
    "    #####################################################################################################  \n",
    "    # used for zoom on/off\n",
    "    # the zoom buttons work in on/off mode.\n",
    "    \n",
    "    \n",
    "\n",
    "#####################################################################################################################  \n",
    "            \n",
    "\n",
    "\n",
    "#For a PDF file viewer,use pypdf2 or convert pdf to png files and open separate images together                   \n",
    "#Fix the output printing twice                   \n",
    "#Account for image files that are not text- No text recognized\n",
    "#Add an error in OCR functions\n",
    "#Account for pdf files that are image based if pdf_to_text throws an error and use ocrmypdf on those\n",
    "#Find a way to not use two duplicate functions(main_function and main_clean_function)                   \n",
    "          "
   ]
  },
  {
   "cell_type": "code",
   "execution_count": null,
   "id": "d8f1fd3a",
   "metadata": {},
   "outputs": [],
   "source": []
  },
  {
   "cell_type": "code",
   "execution_count": null,
   "id": "63a63b78",
   "metadata": {},
   "outputs": [],
   "source": []
  },
  {
   "cell_type": "code",
   "execution_count": null,
   "id": "4a5799c1",
   "metadata": {},
   "outputs": [],
   "source": []
  }
 ],
 "metadata": {
  "kernelspec": {
   "display_name": "Python 3 (ipykernel)",
   "language": "python",
   "name": "python3"
  },
  "language_info": {
   "codemirror_mode": {
    "name": "ipython",
    "version": 3
   },
   "file_extension": ".py",
   "mimetype": "text/x-python",
   "name": "python",
   "nbconvert_exporter": "python",
   "pygments_lexer": "ipython3",
   "version": "3.9.7"
  }
 },
 "nbformat": 4,
 "nbformat_minor": 5
}
